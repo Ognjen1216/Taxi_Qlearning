{
 "cells": [
  {
   "cell_type": "code",
   "execution_count": 1,
   "metadata": {},
   "outputs": [],
   "source": [
    "import gym\n",
    "import numpy as np\n",
    "import seaborn as sns\n",
    "import matplotlib.pyplot as plt\n",
    "from IPython.display import clear_output\n",
    "from time import sleep"
   ]
  },
  {
   "cell_type": "code",
   "execution_count": 2,
   "metadata": {},
   "outputs": [],
   "source": [
    "# making the animation was taken from https://casey-barr.github.io/open-ai-taxi-problem/\n",
    "\n",
    "def print_frames(frames):\n",
    "    for i, frame in enumerate(frames):\n",
    "        clear_output(wait=True)\n",
    "        print(frame['frame'])\n",
    "        print(f\"Timestep: {i + 1}\")\n",
    "        print(f\"State: {frame['state']}\")\n",
    "        print(f\"Action: {frame['action']}\")\n",
    "        print(f\"Reward: {frame['reward']}\")\n",
    "        sleep(.2)\n",
    "        \n",
    "def smooth(data,window=10):\n",
    "    smoothing_filter = np.ones(window)/window\n",
    "    data_smooth = np.convolve(data, smoothing_filter, mode='same')\n",
    "    return data_smooth\n"
   ]
  },
  {
   "cell_type": "code",
   "execution_count": 3,
   "metadata": {},
   "outputs": [],
   "source": [
    "# Define the AGENT - Q learning\n",
    "\n",
    "class Agent():\n",
    "\n",
    "    def __init__(self, env, policy=None, gamma=0.99, alpha=0.05, epsilon=0.2, decay_rate=0.01):\n",
    "        \n",
    "        self.env = env\n",
    "        self.policy = policy # policy pi\n",
    "        self.gamma = gamma   # discount rate\n",
    "        self.alpha = alpha   # constant step-size\n",
    "        self.epsilon = epsilon\n",
    "        self.decay_rate = decay_rate\n",
    "        self.max_epsilon = 1.0\n",
    "        self.min_epsilon = 0.01\n",
    "        self.Q = np.zeros((env.observation_space.n, env.action_space.n))\n",
    "        print(np.shape(self.Q))\n",
    "        \n",
    "    def train(self, N_episodes=1, max_steps=1e6):\n",
    "        \n",
    "        reward_per_episode = np.zeros(N_episodes)\n",
    "        penalty_per_episode = np.zeros(N_episodes)\n",
    "        steps_per_episode = np.zeros(N_episodes)\n",
    "        \n",
    "        for ii in range(N_episodes):\n",
    "            \n",
    "            s = self.env.reset() # reset initial state at every episode\n",
    "            \n",
    "            for step in range(max_steps):\n",
    "                # policy pi_eps\n",
    "                if np.random.rand() < self.epsilon:\n",
    "                    a = self.env.action_space.sample() \n",
    "                else:\n",
    "                    a = np.argmax(self.Q[s,:])\n",
    "                    \n",
    "                sp, r, done, _ = self.env.step(a)\n",
    "                a_star = np.argmax(self.Q[sp,:])\n",
    "                \n",
    "                reward_per_episode[ii] += r\n",
    "                if r == -10:\n",
    "                    penalty_per_episode[ii] += 1\n",
    "                \n",
    "                # training line\n",
    "                self.Q[s,a] += self.alpha * (r + self.gamma * (self.Q[sp,a_star] if not done else 0) - self.Q[s,a])\n",
    "                s = sp\n",
    "                if done:\n",
    "                    steps_per_episode[ii] = step + 1\n",
    "                    break\n",
    "            \n",
    "            self.epsilon = self.min_epsilon + (self.max_epsilon - self.min_epsilon)*np.exp(-self.decay_rate*ii)\n",
    "            \n",
    "        return reward_per_episode, penalty_per_episode, steps_per_episode"
   ]
  },
  {
   "cell_type": "code",
   "execution_count": 4,
   "metadata": {},
   "outputs": [
    {
     "name": "stdout",
     "output_type": "stream",
     "text": [
      "Number of actions:  6\n",
      "Number of states:  500\n",
      "Action number 0 performs this the following movement:\n",
      "+---------+\n",
      "|R: | : :\u001b[35mG\u001b[0m|\n",
      "| : | : : |\n",
      "|\u001b[43m \u001b[0m: : : : |\n",
      "| | : | : |\n",
      "|Y| : |\u001b[34;1mB\u001b[0m: |\n",
      "+---------+\n",
      "  (South)\n",
      "Action number 1 performs this the following movement:\n",
      "+---------+\n",
      "|R: | : :\u001b[35mG\u001b[0m|\n",
      "|\u001b[43m \u001b[0m: | : : |\n",
      "| : : : : |\n",
      "| | : | : |\n",
      "|Y| : |\u001b[34;1mB\u001b[0m: |\n",
      "+---------+\n",
      "  (North)\n",
      "Action number 2 performs this the following movement:\n",
      "+---------+\n",
      "|R: | : :\u001b[35mG\u001b[0m|\n",
      "| :\u001b[43m \u001b[0m| : : |\n",
      "| : : : : |\n",
      "| | : | : |\n",
      "|Y| : |\u001b[34;1mB\u001b[0m: |\n",
      "+---------+\n",
      "  (East)\n",
      "Action number 3 performs this the following movement:\n",
      "+---------+\n",
      "|R: | : :\u001b[35mG\u001b[0m|\n",
      "|\u001b[43m \u001b[0m: | : : |\n",
      "| : : : : |\n",
      "| | : | : |\n",
      "|Y| : |\u001b[34;1mB\u001b[0m: |\n",
      "+---------+\n",
      "  (West)\n",
      "Action number 4 performs this the following movement:\n",
      "+---------+\n",
      "|R: | : :\u001b[35mG\u001b[0m|\n",
      "|\u001b[43m \u001b[0m: | : : |\n",
      "| : : : : |\n",
      "| | : | : |\n",
      "|Y| : |\u001b[34;1mB\u001b[0m: |\n",
      "+---------+\n",
      "  (Pickup)\n",
      "Action number 5 performs this the following movement:\n",
      "+---------+\n",
      "|R: | : :\u001b[35mG\u001b[0m|\n",
      "|\u001b[43m \u001b[0m: | : : |\n",
      "| : : : : |\n",
      "| | : | : |\n",
      "|Y| : |\u001b[34;1mB\u001b[0m: |\n",
      "+---------+\n",
      "  (Dropoff)\n"
     ]
    }
   ],
   "source": [
    "# Define the ENVIRONMENT - TAXI-v3\n",
    "\n",
    "env_name = \"Taxi-v3\"\n",
    "env = gym.make(env_name)\n",
    "state = env.reset()\n",
    "print(\"Number of actions: \", env.action_space.n)\n",
    "print(\"Number of states: \", env.observation_space.n)\n",
    "for ii in range (env.action_space.n):\n",
    "    print(\"Action number {} performs this the following movement:\".format(ii))\n",
    "    # the movement is represented in the parentheses of the image\n",
    "    env.step(ii)\n",
    "    env.render()"
   ]
  },
  {
   "cell_type": "code",
   "execution_count": 5,
   "metadata": {},
   "outputs": [
    {
     "name": "stdout",
     "output_type": "stream",
     "text": [
      "(500, 6)\n"
     ]
    }
   ],
   "source": [
    "N_episodes = 10000\n",
    "max_steps = 100\n",
    "\n",
    "gamma = 0.9\n",
    "alpha = 0.05\n",
    "epsilon = 1.0\n",
    "decay_rate = 0.01\n",
    "\n",
    "agent = Agent(env, gamma=gamma , alpha=alpha, epsilon=epsilon, decay_rate=decay_rate)\n",
    "reward_train, penalty_train, steps_train = agent.train(N_episodes=N_episodes,max_steps=max_steps)"
   ]
  },
  {
   "cell_type": "code",
   "execution_count": 6,
   "metadata": {},
   "outputs": [
    {
     "data": {
      "text/plain": [
       "[<matplotlib.lines.Line2D at 0x18694fbbc88>]"
      ]
     },
     "execution_count": 6,
     "metadata": {},
     "output_type": "execute_result"
    },
    {
     "data": {
      "image/png": "[encoded data removed]",
      "text/plain": [
       "<Figure size 432x288 with 1 Axes>"
      ]
     },
     "metadata": {
      "needs_background": "light"
     },
     "output_type": "display_data"
    }
   ],
   "source": [
    "plt.plot(smooth(reward_train,window=10))"
   ]
  },
  {
   "cell_type": "code",
   "execution_count": 8,
   "metadata": {},
   "outputs": [
    {
     "ename": "NameError",
     "evalue": "name 'sns' is not defined",
     "output_type": "error",
     "traceback": [
      "\u001b[1;31m---------------------------------------------------------------------------\u001b[0m",
      "\u001b[1;31mNameError\u001b[0m                                 Traceback (most recent call last)",
      "\u001b[1;32m<ipython-input-8-f178e85775bf>\u001b[0m in \u001b[0;36m<module>\u001b[1;34m\u001b[0m\n\u001b[1;32m----> 1\u001b[1;33m \u001b[0msns\u001b[0m\u001b[1;33m.\u001b[0m\u001b[0mlineplot\u001b[0m\u001b[1;33m(\u001b[0m\u001b[0msmooth\u001b[0m\u001b[1;33m(\u001b[0m\u001b[0mreward_train\u001b[0m\u001b[1;33m,\u001b[0m\u001b[0mwindow\u001b[0m\u001b[1;33m=\u001b[0m\u001b[1;36m10\u001b[0m\u001b[1;33m)\u001b[0m\u001b[1;33m)\u001b[0m\u001b[1;33m\u001b[0m\u001b[1;33m\u001b[0m\u001b[0m\n\u001b[0m",
      "\u001b[1;31mNameError\u001b[0m: name 'sns' is not defined"
     ]
    }
   ],
   "source": [
    "sns.lineplot(smooth(reward_train,window=10))"
   ]
  },
  {
   "cell_type": "code",
   "execution_count": null,
   "metadata": {},
   "outputs": [],
   "source": [
    "plt.plot(steps_train)"
   ]
  },
  {
   "cell_type": "code",
   "execution_count": null,
   "metadata": {},
   "outputs": [],
   "source": [
    "epochs = 100;\n",
    "frames = [[]]\n",
    "reward_per_epoch = np.zeros(epochs)\n",
    "penalty_per_epoch = np.zeros(epochs)\n",
    "steps_per_epoch = np.zeros(epochs)\n",
    "\n",
    "for ii in range(epochs):\n",
    "    \n",
    "    state = env.reset()\n",
    "    t = 0\n",
    "    done = False\n",
    "    \n",
    "    while not done:\n",
    "        action = np.argmax(agent.Q[state,:])\n",
    "        state, reward, done, info = env.step(action)\n",
    "        frames[ii].append({\n",
    "            'frame': env.render(mode='ansi'),\n",
    "            'state': state,\n",
    "            'action': action,\n",
    "            'reward': reward\n",
    "        }\n",
    "        )\n",
    "        \n",
    "        reward_per_epoch[ii] += reward\n",
    "        if reward == -10:\n",
    "            penalty_per_epoch[ii] += 1\n",
    "            \n",
    "        if done:\n",
    "            print(\"Epoch #{}: Episode finished after {} moves\".format(ii, t+1))\n",
    "            steps_per_epoch[ii] = t + 1\n",
    "            break\n",
    "        t += 1\n",
    "    frames.append([])"
   ]
  },
  {
   "cell_type": "code",
   "execution_count": null,
   "metadata": {},
   "outputs": [],
   "source": [
    "print(np.mean(reward_per_epoch))\n",
    "print(np.mean(penalty_per_epoch))\n",
    "print(np.mean(steps_per_epoch))"
   ]
  },
  {
   "cell_type": "code",
   "execution_count": null,
   "metadata": {},
   "outputs": [],
   "source": [
    "#print_frames(frames[21])"
   ]
  },
  {
   "cell_type": "code",
   "execution_count": null,
   "metadata": {},
   "outputs": [],
   "source": [
    "env.close()"
   ]
  },
  {
   "cell_type": "code",
   "execution_count": null,
   "metadata": {},
   "outputs": [],
   "source": [
    "print(steps_train[-1])"
   ]
  },
  {
   "cell_type": "code",
   "execution_count": null,
   "metadata": {},
   "outputs": [],
   "source": []
  }
 ],
 "metadata": {
  "kernelspec": {
   "display_name": "Python 3",
   "language": "python",
   "name": "python3"
  },
  "language_info": {
   "codemirror_mode": {
    "name": "ipython",
    "version": 3
   },
   "file_extension": ".py",
   "mimetype": "text/x-python",
   "name": "python",
   "nbconvert_exporter": "python",
   "pygments_lexer": "ipython3",
   "version": "3.6.10"
  }
 },
 "nbformat": 4,
 "nbformat_minor": 4
}
